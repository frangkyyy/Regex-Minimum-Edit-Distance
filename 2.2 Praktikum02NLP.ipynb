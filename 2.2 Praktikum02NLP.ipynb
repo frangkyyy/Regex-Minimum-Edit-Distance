{
 "cells": [
  {
   "cell_type": "markdown",
   "id": "ee23bdb2",
   "metadata": {},
   "source": [
    " **2.2 Write Regular Expressions for the following languages. By \"word\", we mean an alphabetic string separated from other words by whitespace, any relevant punctuation, line breaks, and so forth**"
   ]
  },
  {
   "cell_type": "markdown",
   "id": "5f12cc8b",
   "metadata": {},
   "source": [
    "1. the set of all strings with two consecutive repeated words (e.g., \"Hum-bert Humbert\" and \"the the\" but not \"the bug\" or \"the big bug\");"
   ]
  },
  {
   "cell_type": "markdown",
   "id": "2f314343",
   "metadata": {},
   "source": [
    "Regular Expressions: **\\b(\\w+)\\s+\\1\\b**\n",
    "\n",
    "Penjelasan:\n",
    "\n",
    "**\\b**: Menandakan word boundary (pemisah kata).\n",
    "\n",
    "**(\\w+)**: Mencari satu kata yang merupakan urutan huruf (alphanumeric), lalu menyimpannya sebagai grup.\n",
    "\n",
    "**\\s+**: Memastikan ada satu atau lebih spasi di antara kata-kata.\n",
    "\n",
    "**\\1**: Merujuk kembali ke kata pertama yang ditemukan (grup pertama).\n",
    "\n",
    "**\\b**: Menandakan word boundary setelah kata kedua."
   ]
  },
  {
   "cell_type": "code",
   "execution_count": 1,
   "id": "0b571c90",
   "metadata": {},
   "outputs": [
    {
     "name": "stdout",
     "output_type": "stream",
     "text": [
      "Repeated words: ['the']\n"
     ]
    }
   ],
   "source": [
    "import re\n",
    "\n",
    "# Regex untuk menemukan dua kata berulang secara berurutan\n",
    "pattern_repeated_words = r'\\b(\\w+)\\s+\\1\\b'\n",
    "\n",
    "# Contoh string\n",
    "text = \"Hum-bert Humbert is a the the repeated test case\"\n",
    "\n",
    "# Cari semua kata berulang\n",
    "# re.findall() = untuk menemukan semua kemunculan dua kata yang berulang dalam string.\n",
    "matches = re.findall(pattern_repeated_words, text)\n",
    "\n",
    "print(\"Repeated words:\", matches)"
   ]
  },
  {
   "cell_type": "markdown",
   "id": "84cfab3d",
   "metadata": {},
   "source": [
    "2. all strings that start at the beginning of the line with an integer and that end at the end of the line with a word;"
   ]
  },
  {
   "cell_type": "markdown",
   "id": "6a3ed6e9",
   "metadata": {},
   "source": [
    "Regular Expressions: **^\\d+.*\\b\\w+\\b$**\n",
    "\n",
    "Penjelasan:\n",
    "\n",
    "**^**: Menandakan awal dari string/line..\n",
    "\n",
    "**\\d+**: Mencari satu atau lebih digit (angka) di awal string.\n",
    "\n",
    "**.***:: Mencari nol atau lebih karakter apa pun di antara angka awal dan kata terakhir.\n",
    "\n",
    "**\\b\\w+\\b**: Mencari satu kata (alfabetik) di akhir string.\n",
    "\n",
    "**$**: Menandakan akhir dari string/line."
   ]
  },
  {
   "cell_type": "code",
   "execution_count": 2,
   "id": "c8cdfcf0",
   "metadata": {},
   "outputs": [
    {
     "name": "stdout",
     "output_type": "stream",
     "text": [
      "String matches the pattern\n"
     ]
    }
   ],
   "source": [
    "# Regex untuk string yang dimulai dengan angka dan diakhiri dengan kata\n",
    "pattern_start_digit_end_word = r'^\\d+.*\\b\\w+\\b$'\n",
    "\n",
    "# Contoh string\n",
    "text = \"123 this is a test\"\n",
    "\n",
    "# Cek apakah string cocok dengan pola\n",
    "## re.match() untuk memeriksa apakah sebuah string dimulai dengan angka dan diakhiri\n",
    "## dengan kata.\n",
    "if re.match(pattern_start_digit_end_word, text):\n",
    "    print(\"String matches the pattern\")\n",
    "else:\n",
    "    print(\"String does not match the pattern\")\n"
   ]
  },
  {
   "cell_type": "code",
   "execution_count": null,
   "id": "26c96204",
   "metadata": {},
   "outputs": [],
   "source": []
  }
 ],
 "metadata": {
  "kernelspec": {
   "display_name": "Python 3 (ipykernel)",
   "language": "python",
   "name": "python3"
  },
  "language_info": {
   "codemirror_mode": {
    "name": "ipython",
    "version": 3
   },
   "file_extension": ".py",
   "mimetype": "text/x-python",
   "name": "python",
   "nbconvert_exporter": "python",
   "pygments_lexer": "ipython3",
   "version": "3.9.13"
  }
 },
 "nbformat": 4,
 "nbformat_minor": 5
}
