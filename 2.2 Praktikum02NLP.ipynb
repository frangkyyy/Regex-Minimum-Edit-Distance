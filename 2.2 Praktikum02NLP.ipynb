{
 "cells": [
  {
   "cell_type": "markdown",
   "id": "ee23bdb2",
   "metadata": {},
   "source": [
    " **2.2 Write Regular Expressions for the following languages. By \"word\", we mean an alphabetic string separated from other words by whitespace, any relevant punctuation, line breaks, and so forth**"
   ]
  },
  {
   "cell_type": "markdown",
   "id": "5f12cc8b",
   "metadata": {},
   "source": [
    "1. the set of all strings with two consecutive repeated words (e.g., \"Hum-bert Humbert\" and \"the the\" but not \"the bug\" or \"the big bug\");"
   ]
  },
  {
   "cell_type": "markdown",
   "id": "2f314343",
   "metadata": {},
   "source": [
    "Regular Expressions:\n",
    "**\\b(\\w+)\\b[^\\w]+\\1\\b**\n",
    "\n",
    "Penjelasan:\n",
    "\n",
    "**\\b**: Menandai batasan kata.\n",
    "\n",
    "**(\\w+)**: Menangkap kata (karakter alfabetik, angka, dan underscore).\n",
    "\n",
    "**[^\\w]+**: Memastikan ada pemisah (spasi, tanda baca, dll.) antara dua kata yang berulang, selain karakter kata.\n",
    "\n",
    "**\\1**: Menyatakan bahwa kata kedua harus sama dengan kata pertama yang sudah ditangkap oleh grup pertama."
   ]
  },
  {
   "cell_type": "code",
   "execution_count": 2,
   "id": "0b571c90",
   "metadata": {},
   "outputs": [
    {
     "name": "stdout",
     "output_type": "stream",
     "text": [
      "['Humbert', 'the']\n"
     ]
    }
   ],
   "source": [
    "import re\n",
    "\n",
    "def find_repeated_words(text):\n",
    "    pattern = r\"\\b(\\w+)\\b[^\\w]+\\1\\b\"\n",
    "    return re.findall(pattern, text)\n",
    "\n",
    "text = \"Humbert Humbert, the the, but not the bug or the big bug\"\n",
    "print(find_repeated_words(text)) # Output: ['HHumbert', 'the']"
   ]
  },
  {
   "cell_type": "markdown",
   "id": "84cfab3d",
   "metadata": {},
   "source": [
    "2. all strings that start at the beginning of the line with an integer and that end at the end of the line with a word;"
   ]
  },
  {
   "cell_type": "markdown",
   "id": "6a3ed6e9",
   "metadata": {},
   "source": [
    "Regular Expressions: **^\\d+.*\\b\\w+\\b$**\n",
    "\n",
    "Penjelasan:\n",
    "\n",
    "**^**: Menandai awal baris.\n",
    "\n",
    "**\\d+**: Menangkap satu atau lebih angka (integer).\n",
    "\n",
    ".*":: Mencocokkan semua karakter apapun setelah integer.\n",
    "\n",
    "**\\b\\w+\\b**: Menangkap sebuah kata di akhir string.\n",
    "\n",
    "**$**: Menandai akhir baris."
   ]
  },
  {
   "cell_type": "code",
   "execution_count": 3,
   "id": "c8cdfcf0",
   "metadata": {},
   "outputs": [
    {
     "name": "stdout",
     "output_type": "stream",
     "text": [
      "['123 start with number and end with word']\n"
     ]
    }
   ],
   "source": [
    "import re\n",
    "\n",
    "def find_start_int_end_word(text):\n",
    "    pattern = r\"^\\d+.*\\b\\w+\\b$\"\n",
    "    return re.findall(pattern, text, re.MULTILINE)\n",
    "\n",
    "text = \"123 start with number and end with word\\nNot this 123\"\n",
    "print(find_start_int_end_word(text))  # Output: ['123 start with number and end with word']"
   ]
  },
  {
   "cell_type": "code",
   "execution_count": null,
   "id": "26c96204",
   "metadata": {},
   "outputs": [],
   "source": []
  }
 ],
 "metadata": {
  "kernelspec": {
   "display_name": "Python 3 (ipykernel)",
   "language": "python",
   "name": "python3"
  },
  "language_info": {
   "codemirror_mode": {
    "name": "ipython",
    "version": 3
   },
   "file_extension": ".py",
   "mimetype": "text/x-python",
   "name": "python",
   "nbconvert_exporter": "python",
   "pygments_lexer": "ipython3",
   "version": "3.9.13"
  }
 },
 "nbformat": 4,
 "nbformat_minor": 5
}
